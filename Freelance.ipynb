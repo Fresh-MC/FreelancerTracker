{
  "nbformat": 4,
  "nbformat_minor": 0,
  "metadata": {
    "colab": {
      "provenance": [],
      "toc_visible": true
    },
    "kernelspec": {
      "name": "python3",
      "display_name": "Python 3"
    },
    "language_info": {
      "name": "python"
    }
  },
  "cells": [
    {
      "cell_type": "code",
      "execution_count": null,
      "metadata": {
        "id": "UD_VYsWOZ23W"
      },
      "outputs": [],
      "source": [
        "# skills.py logic\n",
        "def categorize_task(task_description):\n",
        "    keywords = {\n",
        "        \"edit\": \"Video Editing\",\n",
        "        \"reel\": \"Video Editing\",\n",
        "        \"design\": \"Design\",\n",
        "        \"logo\": \"Design\",\n",
        "        \"code\": \"Development\",\n",
        "        \"build\": \"Development\",\n",
        "        \"write\": \"Content Writing\",\n",
        "        \"blog\": \"Content Writing\",\n",
        "        \"pitch\": \"Communication\",\n",
        "        \"call\": \"Communication\"\n",
        "    }\n",
        "\n",
        "    task_lower = task_description.lower()\n",
        "    for keyword in keywords:\n",
        "        if keyword in task_lower:\n",
        "            return keywords[keyword]\n",
        "    return \"Other\"\n",
        "\n"
      ]
    },
    {
      "cell_type": "markdown",
      "source": [
        "# Task List"
      ],
      "metadata": {
        "id": "Nb-yGUSkaUaB"
      }
    },
    {
      "cell_type": "code",
      "source": [
        "# Sample tasks (you can edit this)\n",
        "tasks = [\n",
        "    \"Edited a client video reel\",\n",
        "    \"Designed a logo for a startup\",\n",
        "    \"Wrote a blog article on AI tools\",\n",
        "    \"Built a React portfolio site\",\n",
        "    \"Pitched an idea in a Zoom call\"\n",
        "]\n"
      ],
      "metadata": {
        "id": "emEeyEKmaSk6"
      },
      "execution_count": null,
      "outputs": []
    },
    {
      "cell_type": "markdown",
      "source": [
        "Tasks to CSV"
      ],
      "metadata": {
        "id": "v495G5qiazXp"
      }
    },
    {
      "cell_type": "code",
      "source": [
        "import csv\n",
        "from datetime import date\n",
        "\n",
        "# Save tasks to CSV\n",
        "with open(\"freelancer_tasks.csv\", \"w\", newline=\"\") as file:\n",
        "    writer = csv.writer(file)\n",
        "    writer.writerow([\"Date\", \"Task Description\", \"Skill Category\"])\n",
        "\n",
        "    for task in tasks:\n",
        "        skill = categorize_task(task)\n",
        "        writer.writerow([date.today(), task, skill])\n",
        "        print(f\"Saved: {task} → {skill}\")\n"
      ],
      "metadata": {
        "colab": {
          "base_uri": "https://localhost:8080/"
        },
        "id": "s8LAPiR-auoX",
        "outputId": "e0b45782-f2d8-4145-b7ab-10ee8ebf4264"
      },
      "execution_count": null,
      "outputs": [
        {
          "output_type": "stream",
          "name": "stdout",
          "text": [
            "Saved: Edited a client video reel → Video Editing\n",
            "Saved: Designed a logo for a startup → Design\n",
            "Saved: Wrote a blog article on AI tools → Content Writing\n",
            "Saved: Built a React portfolio site → Other\n",
            "Saved: Pitched an idea in a Zoom call → Communication\n"
          ]
        }
      ]
    },
    {
      "cell_type": "code",
      "source": [
        "from collections import Counter\n",
        "\n",
        "# Generate report from CSV\n",
        "def generate_report(filename):\n",
        "    try:\n",
        "        with open(filename, 'r') as file:\n",
        "            reader = csv.reader(file)\n",
        "            next(reader)  # skip header\n",
        "            data = list(reader)\n",
        "\n",
        "        skill_counts = Counter([row[2] for row in data])\n",
        "        total_tasks = sum(skill_counts.values())\n",
        "\n",
        "        print(\"\\n Skill Report:\")\n",
        "        print(f\"Total Tasks Logged: {total_tasks}\")\n",
        "        for skill, count in skill_counts.items():\n",
        "            print(f\" - {skill}: {count}\")\n",
        "\n",
        "    except FileNotFoundError:\n",
        "        print(\" No tasks logged yet.\")\n",
        "\n",
        "generate_report(\"freelancer_tasks.csv\")\n"
      ],
      "metadata": {
        "colab": {
          "base_uri": "https://localhost:8080/"
        },
        "id": "-L5ILPZqbApe",
        "outputId": "cc3adf9e-4e68-4bb2-da6b-f860138307bd"
      },
      "execution_count": null,
      "outputs": [
        {
          "output_type": "stream",
          "name": "stdout",
          "text": [
            "\n",
            " Skill Report:\n",
            "Total Tasks Logged: 5\n",
            " - Video Editing: 1\n",
            " - Design: 1\n",
            " - Content Writing: 1\n",
            " - Other: 1\n",
            " - Communication: 1\n"
          ]
        }
      ]
    }
  ]
}